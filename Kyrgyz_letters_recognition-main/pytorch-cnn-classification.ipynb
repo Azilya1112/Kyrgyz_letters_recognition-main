{
 "cells": [
  {
   "cell_type": "code",
   "execution_count": 1,
   "id": "470c2f29",
   "metadata": {
    "_cell_guid": "b1076dfc-b9ad-4769-8c92-a6c4dae69d19",
    "_uuid": "8f2839f25d086af736a60e9eeb907d3b93b6e0e5",
    "execution": {
     "iopub.execute_input": "2023-01-07T04:10:24.775622Z",
     "iopub.status.busy": "2023-01-07T04:10:24.775143Z",
     "iopub.status.idle": "2023-01-07T04:10:26.816443Z",
     "shell.execute_reply": "2023-01-07T04:10:26.815417Z"
    },
    "papermill": {
     "duration": 2.052865,
     "end_time": "2023-01-07T04:10:26.818951",
     "exception": false,
     "start_time": "2023-01-07T04:10:24.766086",
     "status": "completed"
    },
    "tags": [],
    "ExecuteTime": {
     "end_time": "2023-12-16T13:53:48.230607400Z",
     "start_time": "2023-12-16T13:53:39.345452100Z"
    }
   },
   "outputs": [],
   "source": [
    "import os\n",
    "\n",
    "import torch\n",
    "import torchvision\n",
    "import numpy as np\n",
    "\n",
    "from torch import nn\n",
    "from torch.utils.data import DataLoader\n",
    "from torchvision import transforms\n",
    "\n",
    "import matplotlib.pyplot as plt\n"
   ]
  },
  {
   "cell_type": "code",
   "execution_count": 3,
   "id": "bd9d7295",
   "metadata": {
    "execution": {
     "iopub.execute_input": "2023-01-07T04:10:26.832062Z",
     "iopub.status.busy": "2023-01-07T04:10:26.830826Z",
     "iopub.status.idle": "2023-01-07T04:11:46.277308Z",
     "shell.execute_reply": "2023-01-07T04:11:46.276347Z"
    },
    "papermill": {
     "duration": 79.452451,
     "end_time": "2023-01-07T04:11:46.279806",
     "exception": false,
     "start_time": "2023-01-07T04:10:26.827355",
     "status": "completed"
    },
    "tags": [],
    "ExecuteTime": {
     "end_time": "2023-12-16T13:55:23.843549100Z",
     "start_time": "2023-12-16T13:55:20.505754800Z"
    }
   },
   "outputs": [],
   "source": [
    "train_path = 'Database of 36 handwritten Kyrgyz letters - Train and Test/train'\n",
    "test_path = 'Database of 36 handwritten Kyrgyz letters - Train and Test/test'\n",
    "\n",
    "trans = transforms.Compose([\n",
    "    transforms.ToTensor(),\n",
    "    transforms.Normalize(mean=(0.5,0.5,0.5), std=(0.5,0.5,0.5))\n",
    "])\n",
    "\n",
    "train_data = torchvision.datasets.ImageFolder(root=train_path,transform=trans)\n",
    "test_data = torchvision.datasets.ImageFolder(root=test_path,transform=trans)"
   ]
  },
  {
   "cell_type": "code",
   "execution_count": 4,
   "id": "ed26d335",
   "metadata": {
    "execution": {
     "iopub.execute_input": "2023-01-07T04:11:46.287157Z",
     "iopub.status.busy": "2023-01-07T04:11:46.286267Z",
     "iopub.status.idle": "2023-01-07T04:11:46.348766Z",
     "shell.execute_reply": "2023-01-07T04:11:46.347795Z"
    },
    "papermill": {
     "duration": 0.068367,
     "end_time": "2023-01-07T04:11:46.350927",
     "exception": false,
     "start_time": "2023-01-07T04:11:46.282560",
     "status": "completed"
    },
    "tags": [],
    "ExecuteTime": {
     "end_time": "2023-12-16T13:55:31.312992700Z",
     "start_time": "2023-12-16T13:55:31.298810100Z"
    }
   },
   "outputs": [
    {
     "name": "stdout",
     "output_type": "stream",
     "text": [
      "Using cpu device\n"
     ]
    }
   ],
   "source": [
    "device = 'cuda' if torch.cuda.is_available() else 'cpu'\n",
    "print(f'Using {device} device')"
   ]
  },
  {
   "cell_type": "code",
   "execution_count": 5,
   "id": "b65f56ec",
   "metadata": {
    "execution": {
     "iopub.execute_input": "2023-01-07T04:11:46.357640Z",
     "iopub.status.busy": "2023-01-07T04:11:46.356834Z",
     "iopub.status.idle": "2023-01-07T04:11:46.366261Z",
     "shell.execute_reply": "2023-01-07T04:11:46.365431Z"
    },
    "papermill": {
     "duration": 0.014709,
     "end_time": "2023-01-07T04:11:46.368195",
     "exception": false,
     "start_time": "2023-01-07T04:11:46.353486",
     "status": "completed"
    },
    "tags": [],
    "ExecuteTime": {
     "end_time": "2023-12-16T13:55:37.641562700Z",
     "start_time": "2023-12-16T13:55:37.615526500Z"
    }
   },
   "outputs": [],
   "source": [
    "class Kyrgyz(nn.Module):\n",
    "    def __init__(self):\n",
    "        super(Kyrgyz, self).__init__()\n",
    "        self.features = nn.Sequential(\n",
    "            # conv1 : 3 * 134 * 134\n",
    "            nn.Conv2d(in_channels=3, out_channels=16, kernel_size=3),\n",
    "            nn.ReLU(inplace=True),\n",
    "            nn.MaxPool2d(kernel_size=2),\n",
    "\n",
    "            # conv2 : 16 * 66 * 66\n",
    "            nn.Conv2d(in_channels=16, out_channels=32, kernel_size=3),\n",
    "            nn.ReLU(inplace=True),\n",
    "            nn.MaxPool2d(kernel_size=2),\n",
    "\n",
    "            # conv3 : 32 * 32 * 32\n",
    "            nn.Conv2d(in_channels=32, out_channels=64, kernel_size=3),\n",
    "            nn.ReLU(inplace=True),\n",
    "            nn.MaxPool2d(kernel_size=2),\n",
    "        )\n",
    "        # Flatten : 64 * 15 * 15\n",
    "        self.flatten = nn.Flatten()\n",
    "\n",
    "        self.classifier = nn.Sequential(\n",
    "            nn.Linear(in_features=64*15*15, out_features=2048),\n",
    "            nn.ReLU(inplace=True),\n",
    "            nn.Dropout(p=0.5),\n",
    "\n",
    "            nn.Linear(in_features=2048, out_features=512),\n",
    "            nn.ReLU(inplace=True),\n",
    "            nn.Dropout(p=0.5),\n",
    "\n",
    "            nn.Linear(in_features=512, out_features=36)\n",
    "        )\n",
    "    \n",
    "    def forward(self,x):\n",
    "        x = self.features(x)\n",
    "        x = self.flatten(x)\n",
    "        logits = self.classifier(x)\n",
    "        return logits"
   ]
  },
  {
   "cell_type": "code",
   "execution_count": 6,
   "id": "f4256d0c",
   "metadata": {
    "execution": {
     "iopub.execute_input": "2023-01-07T04:11:46.375669Z",
     "iopub.status.busy": "2023-01-07T04:11:46.374106Z",
     "iopub.status.idle": "2023-01-07T04:11:49.551525Z",
     "shell.execute_reply": "2023-01-07T04:11:49.549551Z"
    },
    "papermill": {
     "duration": 3.182991,
     "end_time": "2023-01-07T04:11:49.553636",
     "exception": false,
     "start_time": "2023-01-07T04:11:46.370645",
     "status": "completed"
    },
    "tags": [],
    "ExecuteTime": {
     "end_time": "2023-12-16T13:55:40.581583600Z",
     "start_time": "2023-12-16T13:55:40.325102100Z"
    }
   },
   "outputs": [
    {
     "name": "stdout",
     "output_type": "stream",
     "text": [
      "Kyrgyz(\n",
      "  (features): Sequential(\n",
      "    (0): Conv2d(3, 16, kernel_size=(3, 3), stride=(1, 1))\n",
      "    (1): ReLU(inplace=True)\n",
      "    (2): MaxPool2d(kernel_size=2, stride=2, padding=0, dilation=1, ceil_mode=False)\n",
      "    (3): Conv2d(16, 32, kernel_size=(3, 3), stride=(1, 1))\n",
      "    (4): ReLU(inplace=True)\n",
      "    (5): MaxPool2d(kernel_size=2, stride=2, padding=0, dilation=1, ceil_mode=False)\n",
      "    (6): Conv2d(32, 64, kernel_size=(3, 3), stride=(1, 1))\n",
      "    (7): ReLU(inplace=True)\n",
      "    (8): MaxPool2d(kernel_size=2, stride=2, padding=0, dilation=1, ceil_mode=False)\n",
      "  )\n",
      "  (flatten): Flatten(start_dim=1, end_dim=-1)\n",
      "  (classifier): Sequential(\n",
      "    (0): Linear(in_features=14400, out_features=2048, bias=True)\n",
      "    (1): ReLU(inplace=True)\n",
      "    (2): Dropout(p=0.5, inplace=False)\n",
      "    (3): Linear(in_features=2048, out_features=512, bias=True)\n",
      "    (4): ReLU(inplace=True)\n",
      "    (5): Dropout(p=0.5, inplace=False)\n",
      "    (6): Linear(in_features=512, out_features=36, bias=True)\n",
      "  )\n",
      ")\n"
     ]
    }
   ],
   "source": [
    "model = Kyrgyz().to(device)\n",
    "print(model)"
   ]
  },
  {
   "cell_type": "code",
   "execution_count": 7,
   "id": "fc7e6ae5",
   "metadata": {
    "execution": {
     "iopub.execute_input": "2023-01-07T04:11:49.560926Z",
     "iopub.status.busy": "2023-01-07T04:11:49.560094Z",
     "iopub.status.idle": "2023-01-07T04:11:49.572105Z",
     "shell.execute_reply": "2023-01-07T04:11:49.571275Z"
    },
    "papermill": {
     "duration": 0.017748,
     "end_time": "2023-01-07T04:11:49.574202",
     "exception": false,
     "start_time": "2023-01-07T04:11:49.556454",
     "status": "completed"
    },
    "tags": [],
    "ExecuteTime": {
     "end_time": "2023-12-16T13:55:44.421060Z",
     "start_time": "2023-12-16T13:55:44.398534Z"
    }
   },
   "outputs": [],
   "source": [
    "def train(dataloader, model, loss_fn, optimizer):\n",
    "    model.train()\n",
    "    total_loss = 0.0\n",
    "    top1_acc = 0.0\n",
    "    top5_acc = 0.0\n",
    "    size = len(dataloader.dataset)\n",
    "\n",
    "    for batch_idx, (imgs,labels) in enumerate(dataloader):\n",
    "        imgs, labels = imgs.to(device), labels.to(device)\n",
    "\n",
    "        pred = model(imgs)\n",
    "        loss = loss_fn(pred, labels)\n",
    "\n",
    "        optimizer.zero_grad()\n",
    "        loss.backward()\n",
    "        optimizer.step()\n",
    "\n",
    "        total_loss += loss.item()\n",
    "\n",
    "        # Top-1 accuracy\n",
    "        predicted_1 = pred.argmax(1)\n",
    "        top1_acc += (predicted_1 == labels).float().sum().item()\n",
    "\n",
    "        # Top-5 accuracy\n",
    "        _,predicted_5 = pred.topk(k=5, dim=1)\n",
    "        labels_resize = labels.view(-1,1)\n",
    "        top5_acc += torch.eq(predicted_5, labels_resize).float().sum().item()\n",
    "        \n",
    "        if batch_idx % 100 == 0:\n",
    "            current = batch_idx * len(imgs)\n",
    "            print(f\"[{current:>5d}/{size:>5d}]\")\n",
    "    return total_loss/size, top1_acc/size, top5_acc/size\n",
    "\n",
    "def test(dataloader, model, loss_fn):\n",
    "    model.eval()\n",
    "    size = len(dataloader.dataset)\n",
    "    total_loss = 0.0\n",
    "    top1_acc = 0.0\n",
    "    top5_acc = 0.0\n",
    "\n",
    "    with torch.no_grad():\n",
    "        for imgs, labels in dataloader:\n",
    "            imgs, labels = imgs.to(device), labels.to(device)\n",
    "\n",
    "            pred = model(imgs)\n",
    "            loss = loss_fn(pred, labels)\n",
    "\n",
    "            total_loss += loss.item()\n",
    "\n",
    "            # Top-1 accuracy\n",
    "            predicted_1 = pred.argmax(1)\n",
    "            top1_acc += (predicted_1 == labels).float().sum().item()\n",
    "\n",
    "            # Top-5 accuracy\n",
    "            _,predicted_5 = pred.topk(k=5, dim=1)\n",
    "            labels_resize = labels.view(-1,1)\n",
    "            top5_acc += torch.eq(predicted_5, labels_resize).float().sum().item()\n",
    "\n",
    "    return total_loss/size, top1_acc/size, top5_acc/size\n"
   ]
  },
  {
   "cell_type": "code",
   "execution_count": 8,
   "id": "8a9e1787",
   "metadata": {
    "execution": {
     "iopub.execute_input": "2023-01-07T04:11:49.580604Z",
     "iopub.status.busy": "2023-01-07T04:11:49.580352Z",
     "iopub.status.idle": "2023-01-07T04:11:49.586610Z",
     "shell.execute_reply": "2023-01-07T04:11:49.585794Z"
    },
    "papermill": {
     "duration": 0.011836,
     "end_time": "2023-01-07T04:11:49.588641",
     "exception": false,
     "start_time": "2023-01-07T04:11:49.576805",
     "status": "completed"
    },
    "tags": [],
    "ExecuteTime": {
     "end_time": "2023-12-16T13:55:46.790536800Z",
     "start_time": "2023-12-16T13:55:46.770422600Z"
    }
   },
   "outputs": [],
   "source": [
    "batch_size = 64\n",
    "loss_fn = nn.CrossEntropyLoss()\n",
    "learning_rate = 1e-3\n",
    "optimizer = torch.optim.Adam(model.parameters(), lr=learning_rate)\n",
    "\n",
    "train_dataloader = DataLoader(train_data, batch_size=batch_size, shuffle=True)\n",
    "test_dataloader = DataLoader(test_data, batch_size=batch_size, shuffle=False)"
   ]
  },
  {
   "cell_type": "code",
   "execution_count": 9,
   "id": "090bb0fa",
   "metadata": {
    "execution": {
     "iopub.execute_input": "2023-01-07T04:11:49.595485Z",
     "iopub.status.busy": "2023-01-07T04:11:49.594681Z",
     "iopub.status.idle": "2023-01-07T04:56:00.285978Z",
     "shell.execute_reply": "2023-01-07T04:56:00.284988Z"
    },
    "papermill": {
     "duration": 2650.706547,
     "end_time": "2023-01-07T04:56:00.297815",
     "exception": false,
     "start_time": "2023-01-07T04:11:49.591268",
     "status": "completed"
    },
    "tags": [],
    "ExecuteTime": {
     "end_time": "2023-12-16T17:47:25.331162200Z",
     "start_time": "2023-12-16T13:55:50.060901800Z"
    }
   },
   "outputs": [
    {
     "name": "stdout",
     "output_type": "stream",
     "text": [
      "Epoch 1\n",
      "-------------------------------\n",
      "[    0/62301]\n",
      "[ 6400/62301]\n",
      "[12800/62301]\n",
      "[19200/62301]\n",
      "[25600/62301]\n",
      "[32000/62301]\n",
      "[38400/62301]\n",
      "[44800/62301]\n",
      "[51200/62301]\n",
      "[57600/62301]\n",
      "Epoch 2\n",
      "-------------------------------\n",
      "[    0/62301]\n",
      "[ 6400/62301]\n",
      "[12800/62301]\n",
      "[19200/62301]\n",
      "[25600/62301]\n",
      "[32000/62301]\n",
      "[38400/62301]\n",
      "[44800/62301]\n",
      "[51200/62301]\n",
      "[57600/62301]\n",
      "Epoch 3\n",
      "-------------------------------\n",
      "[    0/62301]\n",
      "[ 6400/62301]\n",
      "[12800/62301]\n",
      "[19200/62301]\n",
      "[25600/62301]\n",
      "[32000/62301]\n",
      "[38400/62301]\n",
      "[44800/62301]\n",
      "[51200/62301]\n",
      "[57600/62301]\n",
      "Epoch 4\n",
      "-------------------------------\n",
      "[    0/62301]\n",
      "[ 6400/62301]\n",
      "[12800/62301]\n",
      "[19200/62301]\n",
      "[25600/62301]\n",
      "[32000/62301]\n",
      "[38400/62301]\n",
      "[44800/62301]\n",
      "[51200/62301]\n",
      "[57600/62301]\n",
      "Epoch 5\n",
      "-------------------------------\n",
      "[    0/62301]\n",
      "[ 6400/62301]\n",
      "[12800/62301]\n",
      "[19200/62301]\n",
      "[25600/62301]\n",
      "[32000/62301]\n",
      "[38400/62301]\n",
      "[44800/62301]\n",
      "[51200/62301]\n",
      "[57600/62301]\n",
      "Epoch 6\n",
      "-------------------------------\n",
      "[    0/62301]\n",
      "[ 6400/62301]\n",
      "[12800/62301]\n",
      "[19200/62301]\n",
      "[25600/62301]\n",
      "[32000/62301]\n",
      "[38400/62301]\n",
      "[44800/62301]\n",
      "[51200/62301]\n",
      "[57600/62301]\n",
      "Epoch 7\n",
      "-------------------------------\n",
      "[    0/62301]\n",
      "[ 6400/62301]\n",
      "[12800/62301]\n",
      "[19200/62301]\n",
      "[25600/62301]\n",
      "[32000/62301]\n",
      "[38400/62301]\n",
      "[44800/62301]\n",
      "[51200/62301]\n",
      "[57600/62301]\n",
      "Epoch 8\n",
      "-------------------------------\n",
      "[    0/62301]\n",
      "[ 6400/62301]\n",
      "[12800/62301]\n",
      "[19200/62301]\n",
      "[25600/62301]\n",
      "[32000/62301]\n",
      "[38400/62301]\n",
      "[44800/62301]\n",
      "[51200/62301]\n",
      "[57600/62301]\n",
      "Epoch 9\n",
      "-------------------------------\n",
      "[    0/62301]\n",
      "[ 6400/62301]\n",
      "[12800/62301]\n",
      "[19200/62301]\n",
      "[25600/62301]\n",
      "[32000/62301]\n",
      "[38400/62301]\n",
      "[44800/62301]\n",
      "[51200/62301]\n",
      "[57600/62301]\n",
      "Epoch 10\n",
      "-------------------------------\n",
      "[    0/62301]\n",
      "[ 6400/62301]\n",
      "[12800/62301]\n",
      "[19200/62301]\n",
      "[25600/62301]\n",
      "[32000/62301]\n",
      "[38400/62301]\n",
      "[44800/62301]\n",
      "[51200/62301]\n",
      "[57600/62301]\n",
      "Epoch 11\n",
      "-------------------------------\n",
      "[    0/62301]\n",
      "[ 6400/62301]\n",
      "[12800/62301]\n",
      "[19200/62301]\n",
      "[25600/62301]\n",
      "[32000/62301]\n",
      "[38400/62301]\n",
      "[44800/62301]\n",
      "[51200/62301]\n",
      "[57600/62301]\n",
      "Epoch 12\n",
      "-------------------------------\n",
      "[    0/62301]\n",
      "[ 6400/62301]\n",
      "[12800/62301]\n",
      "[19200/62301]\n",
      "[25600/62301]\n",
      "[32000/62301]\n",
      "[38400/62301]\n",
      "[44800/62301]\n",
      "[51200/62301]\n",
      "[57600/62301]\n",
      "Epoch 13\n",
      "-------------------------------\n",
      "[    0/62301]\n",
      "[ 6400/62301]\n",
      "[12800/62301]\n",
      "[19200/62301]\n",
      "[25600/62301]\n",
      "[32000/62301]\n",
      "[38400/62301]\n",
      "[44800/62301]\n",
      "[51200/62301]\n",
      "[57600/62301]\n"
     ]
    },
    {
     "ename": "KeyboardInterrupt",
     "evalue": "",
     "output_type": "error",
     "traceback": [
      "\u001B[1;31m---------------------------------------------------------------------------\u001B[0m",
      "\u001B[1;31mKeyboardInterrupt\u001B[0m                         Traceback (most recent call last)",
      "Cell \u001B[1;32mIn[9], line 13\u001B[0m\n\u001B[0;32m     11\u001B[0m \u001B[38;5;28;01mfor\u001B[39;00m t \u001B[38;5;129;01min\u001B[39;00m \u001B[38;5;28mrange\u001B[39m(epochs):\n\u001B[0;32m     12\u001B[0m     \u001B[38;5;28mprint\u001B[39m(\u001B[38;5;124mf\u001B[39m\u001B[38;5;124m\"\u001B[39m\u001B[38;5;124mEpoch \u001B[39m\u001B[38;5;132;01m{\u001B[39;00mt\u001B[38;5;241m+\u001B[39m\u001B[38;5;241m1\u001B[39m\u001B[38;5;132;01m}\u001B[39;00m\u001B[38;5;130;01m\\n\u001B[39;00m\u001B[38;5;124m-------------------------------\u001B[39m\u001B[38;5;124m\"\u001B[39m)\n\u001B[1;32m---> 13\u001B[0m     train_loss, train_top1, train_top5 \u001B[38;5;241m=\u001B[39m \u001B[43mtrain\u001B[49m\u001B[43m(\u001B[49m\u001B[43mtrain_dataloader\u001B[49m\u001B[43m,\u001B[49m\u001B[43m \u001B[49m\u001B[43mmodel\u001B[49m\u001B[43m,\u001B[49m\u001B[43m \u001B[49m\u001B[43mloss_fn\u001B[49m\u001B[43m,\u001B[49m\u001B[43m \u001B[49m\u001B[43moptimizer\u001B[49m\u001B[43m)\u001B[49m\n\u001B[0;32m     14\u001B[0m     val_loss, val_top1, val_top5 \u001B[38;5;241m=\u001B[39m test(test_dataloader, model, loss_fn)\n\u001B[0;32m     17\u001B[0m     res[\u001B[38;5;124m'\u001B[39m\u001B[38;5;124mtrain_loss\u001B[39m\u001B[38;5;124m'\u001B[39m]\u001B[38;5;241m.\u001B[39mappend(train_loss)\n",
      "Cell \u001B[1;32mIn[7], line 8\u001B[0m, in \u001B[0;36mtrain\u001B[1;34m(dataloader, model, loss_fn, optimizer)\u001B[0m\n\u001B[0;32m      5\u001B[0m top5_acc \u001B[38;5;241m=\u001B[39m \u001B[38;5;241m0.0\u001B[39m\n\u001B[0;32m      6\u001B[0m size \u001B[38;5;241m=\u001B[39m \u001B[38;5;28mlen\u001B[39m(dataloader\u001B[38;5;241m.\u001B[39mdataset)\n\u001B[1;32m----> 8\u001B[0m \u001B[38;5;28;01mfor\u001B[39;00m batch_idx, (imgs,labels) \u001B[38;5;129;01min\u001B[39;00m \u001B[38;5;28menumerate\u001B[39m(dataloader):\n\u001B[0;32m      9\u001B[0m     imgs, labels \u001B[38;5;241m=\u001B[39m imgs\u001B[38;5;241m.\u001B[39mto(device), labels\u001B[38;5;241m.\u001B[39mto(device)\n\u001B[0;32m     11\u001B[0m     pred \u001B[38;5;241m=\u001B[39m model(imgs)\n",
      "File \u001B[1;32m~\\PycharmProjects\\courseWorkBigData\\venv\\lib\\site-packages\\torch\\utils\\data\\dataloader.py:630\u001B[0m, in \u001B[0;36m_BaseDataLoaderIter.__next__\u001B[1;34m(self)\u001B[0m\n\u001B[0;32m    627\u001B[0m \u001B[38;5;28;01mif\u001B[39;00m \u001B[38;5;28mself\u001B[39m\u001B[38;5;241m.\u001B[39m_sampler_iter \u001B[38;5;129;01mis\u001B[39;00m \u001B[38;5;28;01mNone\u001B[39;00m:\n\u001B[0;32m    628\u001B[0m     \u001B[38;5;66;03m# TODO(https://github.com/pytorch/pytorch/issues/76750)\u001B[39;00m\n\u001B[0;32m    629\u001B[0m     \u001B[38;5;28mself\u001B[39m\u001B[38;5;241m.\u001B[39m_reset()  \u001B[38;5;66;03m# type: ignore[call-arg]\u001B[39;00m\n\u001B[1;32m--> 630\u001B[0m data \u001B[38;5;241m=\u001B[39m \u001B[38;5;28;43mself\u001B[39;49m\u001B[38;5;241;43m.\u001B[39;49m\u001B[43m_next_data\u001B[49m\u001B[43m(\u001B[49m\u001B[43m)\u001B[49m\n\u001B[0;32m    631\u001B[0m \u001B[38;5;28mself\u001B[39m\u001B[38;5;241m.\u001B[39m_num_yielded \u001B[38;5;241m+\u001B[39m\u001B[38;5;241m=\u001B[39m \u001B[38;5;241m1\u001B[39m\n\u001B[0;32m    632\u001B[0m \u001B[38;5;28;01mif\u001B[39;00m \u001B[38;5;28mself\u001B[39m\u001B[38;5;241m.\u001B[39m_dataset_kind \u001B[38;5;241m==\u001B[39m _DatasetKind\u001B[38;5;241m.\u001B[39mIterable \u001B[38;5;129;01mand\u001B[39;00m \\\n\u001B[0;32m    633\u001B[0m         \u001B[38;5;28mself\u001B[39m\u001B[38;5;241m.\u001B[39m_IterableDataset_len_called \u001B[38;5;129;01mis\u001B[39;00m \u001B[38;5;129;01mnot\u001B[39;00m \u001B[38;5;28;01mNone\u001B[39;00m \u001B[38;5;129;01mand\u001B[39;00m \\\n\u001B[0;32m    634\u001B[0m         \u001B[38;5;28mself\u001B[39m\u001B[38;5;241m.\u001B[39m_num_yielded \u001B[38;5;241m>\u001B[39m \u001B[38;5;28mself\u001B[39m\u001B[38;5;241m.\u001B[39m_IterableDataset_len_called:\n",
      "File \u001B[1;32m~\\PycharmProjects\\courseWorkBigData\\venv\\lib\\site-packages\\torch\\utils\\data\\dataloader.py:674\u001B[0m, in \u001B[0;36m_SingleProcessDataLoaderIter._next_data\u001B[1;34m(self)\u001B[0m\n\u001B[0;32m    672\u001B[0m \u001B[38;5;28;01mdef\u001B[39;00m \u001B[38;5;21m_next_data\u001B[39m(\u001B[38;5;28mself\u001B[39m):\n\u001B[0;32m    673\u001B[0m     index \u001B[38;5;241m=\u001B[39m \u001B[38;5;28mself\u001B[39m\u001B[38;5;241m.\u001B[39m_next_index()  \u001B[38;5;66;03m# may raise StopIteration\u001B[39;00m\n\u001B[1;32m--> 674\u001B[0m     data \u001B[38;5;241m=\u001B[39m \u001B[38;5;28;43mself\u001B[39;49m\u001B[38;5;241;43m.\u001B[39;49m\u001B[43m_dataset_fetcher\u001B[49m\u001B[38;5;241;43m.\u001B[39;49m\u001B[43mfetch\u001B[49m\u001B[43m(\u001B[49m\u001B[43mindex\u001B[49m\u001B[43m)\u001B[49m  \u001B[38;5;66;03m# may raise StopIteration\u001B[39;00m\n\u001B[0;32m    675\u001B[0m     \u001B[38;5;28;01mif\u001B[39;00m \u001B[38;5;28mself\u001B[39m\u001B[38;5;241m.\u001B[39m_pin_memory:\n\u001B[0;32m    676\u001B[0m         data \u001B[38;5;241m=\u001B[39m _utils\u001B[38;5;241m.\u001B[39mpin_memory\u001B[38;5;241m.\u001B[39mpin_memory(data, \u001B[38;5;28mself\u001B[39m\u001B[38;5;241m.\u001B[39m_pin_memory_device)\n",
      "File \u001B[1;32m~\\PycharmProjects\\courseWorkBigData\\venv\\lib\\site-packages\\torch\\utils\\data\\_utils\\fetch.py:51\u001B[0m, in \u001B[0;36m_MapDatasetFetcher.fetch\u001B[1;34m(self, possibly_batched_index)\u001B[0m\n\u001B[0;32m     49\u001B[0m         data \u001B[38;5;241m=\u001B[39m \u001B[38;5;28mself\u001B[39m\u001B[38;5;241m.\u001B[39mdataset\u001B[38;5;241m.\u001B[39m__getitems__(possibly_batched_index)\n\u001B[0;32m     50\u001B[0m     \u001B[38;5;28;01melse\u001B[39;00m:\n\u001B[1;32m---> 51\u001B[0m         data \u001B[38;5;241m=\u001B[39m [\u001B[38;5;28mself\u001B[39m\u001B[38;5;241m.\u001B[39mdataset[idx] \u001B[38;5;28;01mfor\u001B[39;00m idx \u001B[38;5;129;01min\u001B[39;00m possibly_batched_index]\n\u001B[0;32m     52\u001B[0m \u001B[38;5;28;01melse\u001B[39;00m:\n\u001B[0;32m     53\u001B[0m     data \u001B[38;5;241m=\u001B[39m \u001B[38;5;28mself\u001B[39m\u001B[38;5;241m.\u001B[39mdataset[possibly_batched_index]\n",
      "File \u001B[1;32m~\\PycharmProjects\\courseWorkBigData\\venv\\lib\\site-packages\\torch\\utils\\data\\_utils\\fetch.py:51\u001B[0m, in \u001B[0;36m<listcomp>\u001B[1;34m(.0)\u001B[0m\n\u001B[0;32m     49\u001B[0m         data \u001B[38;5;241m=\u001B[39m \u001B[38;5;28mself\u001B[39m\u001B[38;5;241m.\u001B[39mdataset\u001B[38;5;241m.\u001B[39m__getitems__(possibly_batched_index)\n\u001B[0;32m     50\u001B[0m     \u001B[38;5;28;01melse\u001B[39;00m:\n\u001B[1;32m---> 51\u001B[0m         data \u001B[38;5;241m=\u001B[39m [\u001B[38;5;28;43mself\u001B[39;49m\u001B[38;5;241;43m.\u001B[39;49m\u001B[43mdataset\u001B[49m\u001B[43m[\u001B[49m\u001B[43midx\u001B[49m\u001B[43m]\u001B[49m \u001B[38;5;28;01mfor\u001B[39;00m idx \u001B[38;5;129;01min\u001B[39;00m possibly_batched_index]\n\u001B[0;32m     52\u001B[0m \u001B[38;5;28;01melse\u001B[39;00m:\n\u001B[0;32m     53\u001B[0m     data \u001B[38;5;241m=\u001B[39m \u001B[38;5;28mself\u001B[39m\u001B[38;5;241m.\u001B[39mdataset[possibly_batched_index]\n",
      "File \u001B[1;32m~\\PycharmProjects\\courseWorkBigData\\venv\\lib\\site-packages\\torchvision\\datasets\\folder.py:231\u001B[0m, in \u001B[0;36mDatasetFolder.__getitem__\u001B[1;34m(self, index)\u001B[0m\n\u001B[0;32m    229\u001B[0m sample \u001B[38;5;241m=\u001B[39m \u001B[38;5;28mself\u001B[39m\u001B[38;5;241m.\u001B[39mloader(path)\n\u001B[0;32m    230\u001B[0m \u001B[38;5;28;01mif\u001B[39;00m \u001B[38;5;28mself\u001B[39m\u001B[38;5;241m.\u001B[39mtransform \u001B[38;5;129;01mis\u001B[39;00m \u001B[38;5;129;01mnot\u001B[39;00m \u001B[38;5;28;01mNone\u001B[39;00m:\n\u001B[1;32m--> 231\u001B[0m     sample \u001B[38;5;241m=\u001B[39m \u001B[38;5;28;43mself\u001B[39;49m\u001B[38;5;241;43m.\u001B[39;49m\u001B[43mtransform\u001B[49m\u001B[43m(\u001B[49m\u001B[43msample\u001B[49m\u001B[43m)\u001B[49m\n\u001B[0;32m    232\u001B[0m \u001B[38;5;28;01mif\u001B[39;00m \u001B[38;5;28mself\u001B[39m\u001B[38;5;241m.\u001B[39mtarget_transform \u001B[38;5;129;01mis\u001B[39;00m \u001B[38;5;129;01mnot\u001B[39;00m \u001B[38;5;28;01mNone\u001B[39;00m:\n\u001B[0;32m    233\u001B[0m     target \u001B[38;5;241m=\u001B[39m \u001B[38;5;28mself\u001B[39m\u001B[38;5;241m.\u001B[39mtarget_transform(target)\n",
      "File \u001B[1;32m~\\PycharmProjects\\courseWorkBigData\\venv\\lib\\site-packages\\torchvision\\transforms\\transforms.py:95\u001B[0m, in \u001B[0;36mCompose.__call__\u001B[1;34m(self, img)\u001B[0m\n\u001B[0;32m     93\u001B[0m \u001B[38;5;28;01mdef\u001B[39;00m \u001B[38;5;21m__call__\u001B[39m(\u001B[38;5;28mself\u001B[39m, img):\n\u001B[0;32m     94\u001B[0m     \u001B[38;5;28;01mfor\u001B[39;00m t \u001B[38;5;129;01min\u001B[39;00m \u001B[38;5;28mself\u001B[39m\u001B[38;5;241m.\u001B[39mtransforms:\n\u001B[1;32m---> 95\u001B[0m         img \u001B[38;5;241m=\u001B[39m \u001B[43mt\u001B[49m\u001B[43m(\u001B[49m\u001B[43mimg\u001B[49m\u001B[43m)\u001B[49m\n\u001B[0;32m     96\u001B[0m     \u001B[38;5;28;01mreturn\u001B[39;00m img\n",
      "File \u001B[1;32m~\\PycharmProjects\\courseWorkBigData\\venv\\lib\\site-packages\\torchvision\\transforms\\transforms.py:137\u001B[0m, in \u001B[0;36mToTensor.__call__\u001B[1;34m(self, pic)\u001B[0m\n\u001B[0;32m    129\u001B[0m \u001B[38;5;28;01mdef\u001B[39;00m \u001B[38;5;21m__call__\u001B[39m(\u001B[38;5;28mself\u001B[39m, pic):\n\u001B[0;32m    130\u001B[0m \u001B[38;5;250m    \u001B[39m\u001B[38;5;124;03m\"\"\"\u001B[39;00m\n\u001B[0;32m    131\u001B[0m \u001B[38;5;124;03m    Args:\u001B[39;00m\n\u001B[0;32m    132\u001B[0m \u001B[38;5;124;03m        pic (PIL Image or numpy.ndarray): Image to be converted to tensor.\u001B[39;00m\n\u001B[1;32m   (...)\u001B[0m\n\u001B[0;32m    135\u001B[0m \u001B[38;5;124;03m        Tensor: Converted image.\u001B[39;00m\n\u001B[0;32m    136\u001B[0m \u001B[38;5;124;03m    \"\"\"\u001B[39;00m\n\u001B[1;32m--> 137\u001B[0m     \u001B[38;5;28;01mreturn\u001B[39;00m \u001B[43mF\u001B[49m\u001B[38;5;241;43m.\u001B[39;49m\u001B[43mto_tensor\u001B[49m\u001B[43m(\u001B[49m\u001B[43mpic\u001B[49m\u001B[43m)\u001B[49m\n",
      "File \u001B[1;32m~\\PycharmProjects\\courseWorkBigData\\venv\\lib\\site-packages\\torchvision\\transforms\\functional.py:172\u001B[0m, in \u001B[0;36mto_tensor\u001B[1;34m(pic)\u001B[0m\n\u001B[0;32m    170\u001B[0m img \u001B[38;5;241m=\u001B[39m img\u001B[38;5;241m.\u001B[39mview(pic\u001B[38;5;241m.\u001B[39msize[\u001B[38;5;241m1\u001B[39m], pic\u001B[38;5;241m.\u001B[39msize[\u001B[38;5;241m0\u001B[39m], F_pil\u001B[38;5;241m.\u001B[39mget_image_num_channels(pic))\n\u001B[0;32m    171\u001B[0m \u001B[38;5;66;03m# put it from HWC to CHW format\u001B[39;00m\n\u001B[1;32m--> 172\u001B[0m img \u001B[38;5;241m=\u001B[39m \u001B[43mimg\u001B[49m\u001B[38;5;241;43m.\u001B[39;49m\u001B[43mpermute\u001B[49m\u001B[43m(\u001B[49m\u001B[43m(\u001B[49m\u001B[38;5;241;43m2\u001B[39;49m\u001B[43m,\u001B[49m\u001B[43m \u001B[49m\u001B[38;5;241;43m0\u001B[39;49m\u001B[43m,\u001B[49m\u001B[43m \u001B[49m\u001B[38;5;241;43m1\u001B[39;49m\u001B[43m)\u001B[49m\u001B[43m)\u001B[49m\u001B[38;5;241m.\u001B[39mcontiguous()\n\u001B[0;32m    173\u001B[0m \u001B[38;5;28;01mif\u001B[39;00m \u001B[38;5;28misinstance\u001B[39m(img, torch\u001B[38;5;241m.\u001B[39mByteTensor):\n\u001B[0;32m    174\u001B[0m     \u001B[38;5;28;01mreturn\u001B[39;00m img\u001B[38;5;241m.\u001B[39mto(dtype\u001B[38;5;241m=\u001B[39mdefault_float_dtype)\u001B[38;5;241m.\u001B[39mdiv(\u001B[38;5;241m255\u001B[39m)\n",
      "\u001B[1;31mKeyboardInterrupt\u001B[0m: "
     ]
    }
   ],
   "source": [
    "res = {\n",
    "    \"train_loss\": [],\n",
    "    \"train_top1_acc\": [],\n",
    "    \"train_top5_acc\": [],\n",
    "    \"val_loss\": [],\n",
    "    \"val_top1_acc\": [],\n",
    "    \"val_top5_acc\": [],\n",
    "}\n",
    "\n",
    "epochs = 15\n",
    "for t in range(epochs):\n",
    "    print(f\"Epoch {t+1}\\n-------------------------------\")\n",
    "    train_loss, train_top1, train_top5 = train(train_dataloader, model, loss_fn, optimizer)\n",
    "    val_loss, val_top1, val_top5 = test(test_dataloader, model, loss_fn)\n",
    "\n",
    "\n",
    "    res['train_loss'].append(train_loss)\n",
    "    res['train_top1_acc'].append(train_top1)\n",
    "    res['train_top5_acc'].append(train_top5)\n",
    "\n",
    "    res['val_loss'].append(val_loss)\n",
    "    res['val_top1_acc'].append(val_top1)\n",
    "    res['val_top5_acc'].append(val_top5)\n",
    "    \n",
    "print('Done!')"
   ]
  },
  {
   "cell_type": "code",
   "execution_count": 9,
   "id": "7f102253",
   "metadata": {
    "execution": {
     "iopub.execute_input": "2023-01-07T04:56:00.319866Z",
     "iopub.status.busy": "2023-01-07T04:56:00.319532Z",
     "iopub.status.idle": "2023-01-07T04:56:00.901441Z",
     "shell.execute_reply": "2023-01-07T04:56:00.900308Z"
    },
    "papermill": {
     "duration": 0.598165,
     "end_time": "2023-01-07T04:56:00.906202",
     "exception": false,
     "start_time": "2023-01-07T04:56:00.308037",
     "status": "completed"
    },
    "tags": []
   },
   "outputs": [
    {
     "data": {
      "text/plain": [
       "Text(0, 0.5, 'Top-5 Accuracy')"
      ]
     },
     "execution_count": 9,
     "metadata": {},
     "output_type": "execute_result"
    },
    {
     "data": {
      "image/png": "[encoded data removed]",
      "text/plain": [
       "<Figure size 2160x720 with 3 Axes>"
      ]
     },
     "metadata": {
      "needs_background": "light"
     },
     "output_type": "display_data"
    }
   ],
   "source": [
    "fig,ax = plt.subplots(1,3,figsize=(30,10))\n",
    "x = np.arange(epochs)\n",
    "\n",
    "ax[0].plot(x, res['train_loss'], label='Training Loss')\n",
    "ax[0].plot(x, res['val_loss'], label='Validation Loss')\n",
    "ax[0].legend(loc=0)\n",
    "ax[0].set_xlabel('Epochs')\n",
    "ax[0].set_ylabel('Loss')\n",
    "\n",
    "ax[1].plot(x, res['train_top1_acc'], label='Training Top-1 Accuracy')\n",
    "ax[1].plot(x, res['val_top1_acc'], label='Validation Top-1 Accuracy')\n",
    "ax[1].legend(loc=0)\n",
    "ax[1].set_xlabel('Epochs')\n",
    "ax[1].set_ylabel('Top-1 Accuracy')\n",
    "\n",
    "ax[2].plot(x, res['train_top5_acc'], label='Training Top-5 Accuracy')\n",
    "ax[2].plot(x, res['val_top5_acc'], label='Validation Top-5 Accuracy')\n",
    "ax[2].legend(loc=0)\n",
    "ax[2].set_xlabel('Epochs')\n",
    "ax[2].set_ylabel('Top-5 Accuracy')"
   ]
  },
  {
   "cell_type": "code",
   "execution_count": 10,
   "id": "94f07103",
   "metadata": {
    "execution": {
     "iopub.execute_input": "2023-01-07T04:56:00.941718Z",
     "iopub.status.busy": "2023-01-07T04:56:00.941345Z",
     "iopub.status.idle": "2023-01-07T04:56:00.948634Z",
     "shell.execute_reply": "2023-01-07T04:56:00.947351Z"
    },
    "papermill": {
     "duration": 0.027088,
     "end_time": "2023-01-07T04:56:00.952821",
     "exception": false,
     "start_time": "2023-01-07T04:56:00.925733",
     "status": "completed"
    },
    "tags": []
   },
   "outputs": [
    {
     "name": "stdout",
     "output_type": "stream",
     "text": [
      "Training Top-1 Accuracy:  0.9713487744980016\n",
      "Validation Top-1 Accuracy:  0.9459580670478753\n",
      "Trainging Top-5 Accuracy:  0.9994542623713905\n",
      "Validation Top-5 Accuracy:  0.9994542623713905\n"
     ]
    }
   ],
   "source": [
    "print('Training Top-1 Accuracy: ',res['train_top1_acc'][epochs-1])\n",
    "print('Validation Top-1 Accuracy: ',res['val_top1_acc'][epochs-1])\n",
    "print('Trainging Top-5 Accuracy: ',res['train_top5_acc'][epochs-1])\n",
    "print('Validation Top-5 Accuracy: ',res['train_top5_acc'][epochs-1])"
   ]
  }
 ],
 "metadata": {
  "kernelspec": {
   "display_name": "Python 3",
   "language": "python",
   "name": "python3"
  },
  "language_info": {
   "codemirror_mode": {
    "name": "ipython",
    "version": 3
   },
   "file_extension": ".py",
   "mimetype": "text/x-python",
   "name": "python",
   "nbconvert_exporter": "python",
   "pygments_lexer": "ipython3",
   "version": "3.7.12"
  },
  "papermill": {
   "default_parameters": {},
   "duration": 2745.706125,
   "end_time": "2023-01-07T04:56:02.392838",
   "environment_variables": {},
   "exception": null,
   "input_path": "__notebook__.ipynb",
   "output_path": "__notebook__.ipynb",
   "parameters": {},
   "start_time": "2023-01-07T04:10:16.686713",
   "version": "2.3.4"
  }
 },
 "nbformat": 4,
 "nbformat_minor": 5
}
